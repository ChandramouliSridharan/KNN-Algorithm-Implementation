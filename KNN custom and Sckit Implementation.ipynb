{
 "cells": [
  {
   "cell_type": "markdown",
   "metadata": {},
   "source": [
    "***Importing Libraries***"
   ]
  },
  {
   "cell_type": "code",
   "execution_count": 1,
   "metadata": {
    "id": "a85sZDqpITo2"
   },
   "outputs": [],
   "source": [
    "import pandas as pd\n",
    "from random import randrange\n",
    "import operator\n",
    "from sklearn import preprocessing\n",
    "from sklearn.neighbors import KNeighborsClassifier as NearestNeighbors\n",
    "from sklearn.metrics import accuracy_score\n",
    "from scipy.stats import ttest_rel"
   ]
  },
  {
   "cell_type": "markdown",
   "metadata": {},
   "source": [
    "***Neighbour Distance Calculation***"
   ]
  },
  {
   "cell_type": "code",
   "execution_count": 2,
   "metadata": {
    "id": "eYVKtfqHJMW1"
   },
   "outputs": [],
   "source": [
    "class DistMetrics:\n",
    "    def euclidean(self, vector1, vector2):\n",
    "        distance = 0.0\n",
    "        for i in range(len(vector1)-1):\n",
    "            distance += (vector1[i] - vector2[i])**2\n",
    "        return (distance)**0.5\n",
    "\n",
    "    def manhattan(self, vector1, vector2):\n",
    "        return sum(abs(a - b) for a, b in zip(vector1, vector2))\n",
    "\n",
    "    def hamming(self, vector1, vector2):\n",
    "        return sum(a != b for a, b in zip(vector1, vector2))"
   ]
  },
  {
   "cell_type": "markdown",
   "metadata": {},
   "source": [
    "***KNN Classification Model***"
   ]
  },
  {
   "cell_type": "code",
   "execution_count": 3,
   "metadata": {},
   "outputs": [],
   "source": [
    "class knnclassifier:\n",
    "    def _init_(self, k=3, distanceMetric='euclidean'):\n",
    "        self.k = k\n",
    "        self.distanceMetric = distanceMetric\n",
    "\n",
    "    def fit(self, xtrain, ytrain):\n",
    "        assert len(xtrain) == len(ytrain)\n",
    "        self.trainData = xtrain\n",
    "        self.trainLabels = ytrain\n",
    "\n",
    "    def calculateNeighborsDistance(self, test_data):\n",
    "        dist_metrics = DistMetrics()\n",
    "        distances = []\n",
    "        for i, train_data in enumerate(self.trainData):\n",
    "            if self.distanceMetric == 'euclidean':\n",
    "                distances.append([train_data, dist_metrics.euclidean(test_data, train_data), self.trainLabels[i]])\n",
    "            elif self.distanceMetric == 'manhattan':\n",
    "                distances.append([train_data, dist_metrics.manhattan(test_data, train_data), self.trainLabels[i]])\n",
    "            elif self.distanceMetric == 'hamming':\n",
    "                distances.append([train_data, dist_metrics.hamming(test_data, train_data), self.trainLabels[i]])\n",
    "            else:\n",
    "                raise ValueError(f\"Unknown distance metric: {self.distanceMetric}\")\n",
    "\n",
    "        distances.sort(key=operator.itemgetter(1))\n",
    "\n",
    "        neighbors = []\n",
    "        for index in range(self.k):\n",
    "            neighbors.append(distances[index])\n",
    "        return neighbors\n",
    "\n",
    "    # Multilabeled KNN with value and weight\n",
    "    def weighted_voting(self, neighbors):\n",
    "        label_scores = {}\n",
    "        for neighbor in neighbors:\n",
    "            label = neighbor[2]\n",
    "            distance = neighbor[1]\n",
    "            weight = 1 / (distance + 1e-5)\n",
    "            \n",
    "            # Weighted voting\n",
    "            if isinstance(label, list):\n",
    "                for l in label:\n",
    "                    if l in label_scores:\n",
    "                        label_scores[l] += weight\n",
    "                    else:\n",
    "                        label_scores[l] = weight\n",
    "            else:\n",
    "                if label in label_scores:\n",
    "                    label_scores[label] += weight\n",
    "                else:\n",
    "                    label_scores[label] = weight\n",
    "\n",
    "        # Return the label with the highest score\n",
    "        sorted_labels = sorted(label_scores.items(), key=lambda item: item[1], reverse=True)\n",
    "        top_label = sorted_labels[0][0]\n",
    "        return top_label\n",
    "\n",
    "    def predict(self, xtest, k=None, distanceMetric=None):\n",
    "        if k:\n",
    "            self.k = k\n",
    "        if distanceMetric:\n",
    "            self.distanceMetric = distanceMetric\n",
    "\n",
    "        predictions = []\n",
    "        for testCase in xtest:\n",
    "            neighbors = self.calculateNeighborsDistance(testCase)\n",
    "            prediction = self.weighted_voting(neighbors)\n",
    "            predictions.append(prediction)\n",
    "\n",
    "        return predictions"
   ]
  },
  {
   "cell_type": "markdown",
   "metadata": {},
   "source": [
    "***Accuracy Calculation.***"
   ]
  },
  {
   "cell_type": "code",
   "execution_count": 4,
   "metadata": {
    "id": "BSI0L817JVi1"
   },
   "outputs": [],
   "source": [
    "def print_prediction(actual, predictions):\n",
    "    correct = 0\n",
    "    for i in range(len(actual)):\n",
    "        if actual[i] == predictions[i]:\n",
    "            correct += 1\n",
    "    return (correct / float(len(actual)))"
   ]
  },
  {
   "cell_type": "markdown",
   "metadata": {},
   "source": [
    "***K-Fold Cross Validation.***"
   ]
  },
  {
   "cell_type": "code",
   "execution_count": 5,
   "metadata": {},
   "outputs": [],
   "source": [
    "class kFoldCV:\n",
    "    def crossValSplit(self, dataset, numFolds):\n",
    "        dataSplit = list()\n",
    "        dataCopy = list(dataset)\n",
    "        foldSize = int(len(dataset) / numFolds)\n",
    "        for x in range(numFolds):\n",
    "            fold = list()\n",
    "            while len(fold) < foldSize:\n",
    "                index = randrange(len(dataCopy))\n",
    "                fold.append(dataCopy.pop(index))\n",
    "            dataSplit.append(fold)\n",
    "        return dataSplit\n",
    "\n",
    "    def kFCVEvaluate(self, dataset, numFolds, k, distanceMetrics):\n",
    "        knn = knnclassifier()\n",
    "        folds = self.crossValSplit(dataset, numFolds)\n",
    "        \n",
    "        custom_scores = {metric: [] for metric in distanceMetrics}\n",
    "        sckit_scores = {metric: [] for metric in distanceMetrics}\n",
    "\n",
    "        # Perform KNN evaluation for each distance metric\n",
    "        for fold in folds:\n",
    "            trainSet = list(folds)\n",
    "            trainSet.remove(fold)\n",
    "            trainSet = sum(trainSet, [])\n",
    "            testSet = list()\n",
    "            for row in fold:\n",
    "                rowCopy = list(row)\n",
    "                testSet.append(rowCopy)\n",
    "\n",
    "            trainLabels = [row[-1] for row in trainSet]\n",
    "            trainSet = [train[:-1] for train in trainSet]\n",
    "            actual = [row[-1] for row in testSet]\n",
    "            testSet = [test[:-1] for test in testSet]\n",
    "\n",
    "            for metric in distanceMetrics:\n",
    "                knn.fit(trainSet, trainLabels)\n",
    "                predicted = knn.predict(testSet, k, metric)\n",
    "                accuracy = print_prediction(actual, predicted)\n",
    "                custom_scores[metric].append(accuracy)\n",
    "\n",
    "                # Scikit-learn KNN evaluation for each metric\n",
    "                knn_classifier = NearestNeighbors(n_neighbors=k, metric=metric)\n",
    "                knn_classifier.fit(trainSet, trainLabels)\n",
    "                y_pred = knn_classifier.predict(testSet)\n",
    "                sklearn_accuracy = accuracy_score(actual, y_pred)\n",
    "                sckit_scores[metric].append(sklearn_accuracy)\n",
    "\n",
    "        return custom_scores, sckit_scores\n"
   ]
  },
  {
   "cell_type": "markdown",
   "metadata": {},
   "source": [
    "***Reading Data Files.***"
   ]
  },
  {
   "cell_type": "code",
   "execution_count": 6,
   "metadata": {
    "id": "d_m_zNDlKJD2"
   },
   "outputs": [],
   "source": [
    "def readData(fileName):\n",
    "    data = []\n",
    "    labels = []\n",
    "\n",
    "    with open(fileName, \"r\") as file:\n",
    "        lines = file.readlines()\n",
    "    for line in lines:\n",
    "        splitline = line.strip().split(',')\n",
    "        data.append(splitline)\n",
    "        labels.append(splitline[-1])\n",
    "    return data, labels"
   ]
  },
  {
   "cell_type": "markdown",
   "metadata": {},
   "source": [
    "***Hayes Roth Data Set***"
   ]
  },
  {
   "cell_type": "code",
   "execution_count": 7,
   "metadata": {
    "id": "ejP0oK4-KMP3"
   },
   "outputs": [],
   "source": [
    "trainFile = './hayes+roth/hayes-roth.data'\n",
    "trainData, trainLabel = readData(trainFile)\n",
    "trainFeatures = []\n",
    "for row in trainData:\n",
    "    index = row[1:]\n",
    "    temp = [int(item) for item in index]\n",
    "    trainFeatures.append(temp)\n",
    "\n",
    "trainLabels = [int(label) for label in trainLabel]"
   ]
  },
  {
   "cell_type": "markdown",
   "metadata": {},
   "source": [
    "***Initializing KFold Cross Validation instance.***"
   ]
  },
  {
   "cell_type": "code",
   "execution_count": 8,
   "metadata": {
    "id": "4FXm6wTfKPlg"
   },
   "outputs": [],
   "source": [
    "kfcv = kFoldCV()"
   ]
  },
  {
   "cell_type": "markdown",
   "metadata": {},
   "source": [
    "***Calculating Both Custom and Sckit Learn KNN Accuracy.***"
   ]
  },
  {
   "cell_type": "code",
   "execution_count": 9,
   "metadata": {},
   "outputs": [
    {
     "name": "stdout",
     "output_type": "stream",
     "text": [
      "\n",
      "Euclidean:\n",
      "Custom KNN values:\n",
      "['0.46153846153846156', '0.46153846153846156', '0.8461538461538461', '0.8461538461538461', '0.7692307692307693', '0.3076923076923077', '0.46153846153846156', '0.5384615384615384', '0.46153846153846156', '0.7692307692307693']\n",
      "Scikit-learn KNN values:\n",
      "['0.6923076923076923', '0.6153846153846154', '0.6923076923076923', '0.6923076923076923', '0.6923076923076923', '0.8461538461538461', '0.8461538461538461', '0.5384615384615384', '0.6923076923076923', '0.38461538461538464']\n",
      "Mean Accuracy of Custom KNN: 59.23076923076923%\n",
      "Mean Accuracy of Scikit-learn KNN: 66.92307692307693%\n",
      "\n",
      "Hamming:\n",
      "Custom KNN values:\n",
      "['0.5384615384615384', '0.7692307692307693', '0.7692307692307693', '0.6153846153846154', '0.7692307692307693', '0.6923076923076923', '0.6153846153846154', '0.46153846153846156', '0.38461538461538464', '0.46153846153846156']\n",
      "Scikit-learn KNN values:\n",
      "['0.6923076923076923', '0.6923076923076923', '0.6923076923076923', '0.6153846153846154', '0.6153846153846154', '0.6923076923076923', '0.6153846153846154', '0.46153846153846156', '0.46153846153846156', '0.46153846153846156']\n",
      "Mean Accuracy of Custom KNN: 60.769230769230774%\n",
      "Mean Accuracy of Scikit-learn KNN: 60.0%\n",
      "\n",
      "Manhattan:\n",
      "Custom KNN values:\n",
      "['0.6153846153846154', '0.7692307692307693', '0.7692307692307693', '0.7692307692307693', '0.8461538461538461', '0.8461538461538461', '0.7692307692307693', '0.5384615384615384', '0.6923076923076923', '0.5384615384615384']\n",
      "Scikit-learn KNN values:\n",
      "['0.6923076923076923', '0.6923076923076923', '0.6923076923076923', '0.6923076923076923', '0.6923076923076923', '0.8461538461538461', '0.7692307692307693', '0.5384615384615384', '0.6153846153846154', '0.38461538461538464']\n",
      "Mean Accuracy of Custom KNN: 71.53846153846153%\n",
      "Mean Accuracy of Scikit-learn KNN: 66.15384615384615%\n"
     ]
    }
   ],
   "source": [
    "distance_metrics = ['euclidean', 'hamming', 'manhattan']\n",
    "hayes_custom_scores, hayes_sckit_scores = kfcv.kFCVEvaluate(trainFeatures, 10, 3, distance_metrics)\n",
    "\n",
    "for metric in distance_metrics:\n",
    "    # Calculate mean accuracies\n",
    "    mean_custom_knn = sum(hayes_custom_scores[metric]) / len(hayes_custom_scores[metric])\n",
    "    mean_sckit_knn = sum(hayes_sckit_scores[metric]) / len(hayes_sckit_scores[metric])\n",
    "\n",
    "    print(f\"\\n{metric.capitalize()}:\")\n",
    "    print(\"Custom KNN values:\")\n",
    "    print([f\"{score:}\" for score in hayes_custom_scores[metric]])\n",
    "\n",
    "    print(\"Scikit-learn KNN values:\")\n",
    "    print([f\"{score:}\" for score in hayes_sckit_scores[metric]])\n",
    "\n",
    "\n",
    "    print(f\"Mean Accuracy of Custom KNN: {mean_custom_knn * 100:}%\")\n",
    "    print(f\"Mean Accuracy of Scikit-learn KNN: {mean_sckit_knn * 100:}%\")\n",
    "\n"
   ]
  },
  {
   "cell_type": "markdown",
   "metadata": {},
   "source": [
    "***Paired Sample Hypothesis test Calculation***"
   ]
  },
  {
   "cell_type": "code",
   "execution_count": 10,
   "metadata": {},
   "outputs": [
    {
     "name": "stdout",
     "output_type": "stream",
     "text": [
      "\n",
      "Euclidean:\n",
      "T-statistic: -0.8660\n",
      "P-value: 0.4090\n",
      "Fail to reject the null hypothesis (No significant difference between the models).\n",
      "--------------------------------------------------------------------------------------\n",
      "\n",
      "Hamming:\n",
      "T-statistic: 0.2873\n",
      "P-value: 0.7804\n",
      "Fail to reject the null hypothesis (No significant difference between the models).\n",
      "--------------------------------------------------------------------------------------\n",
      "\n",
      "Manhattan:\n",
      "T-statistic: 2.3333\n",
      "P-value: 0.0445\n",
      "Reject the null hypothesis (Significant difference between the models).\n",
      "--------------------------------------------------------------------------------------\n"
     ]
    }
   ],
   "source": [
    "for metric in distance_metrics:\n",
    "    print(f\"\\n{metric.capitalize()}:\")\n",
    "    t_statistic, p_value = ttest_rel(hayes_custom_scores[metric], hayes_sckit_scores[metric])\n",
    "    print(f'T-statistic: {t_statistic:.4f}')\n",
    "    print(f'P-value: {p_value:.4f}')\n",
    "    if p_value > 0.05:\n",
    "      print(\"Fail to reject the null hypothesis (No significant difference between the models).\")\n",
    "    else:\n",
    "      print(\"Reject the null hypothesis (Significant difference between the models).\")        \n",
    "    print(\"--------------------------------------------------------------------------------------\")"
   ]
  },
  {
   "cell_type": "markdown",
   "metadata": {},
   "source": [
    "***Car Evaluation Data File***"
   ]
  },
  {
   "cell_type": "code",
   "execution_count": 11,
   "metadata": {
    "id": "ImiJbJSdLnXH"
   },
   "outputs": [],
   "source": [
    "carFile = './car+evaluation/car.data'\n",
    "carData, carLabel = readData(carFile)\n",
    "df = pd.DataFrame(carData)\n",
    "df = df.apply(preprocessing.LabelEncoder().fit_transform)\n",
    "carFeatures = df.values.tolist()\n",
    "carLabels = [car[-1] for car in carFeatures]"
   ]
  },
  {
   "cell_type": "markdown",
   "metadata": {},
   "source": [
    "***Car Evaluation Custom and Sckit Learn KNN Classification Accuracy***"
   ]
  },
  {
   "cell_type": "code",
   "execution_count": 12,
   "metadata": {
    "colab": {
     "base_uri": "https://localhost:8080/"
    },
    "id": "3iFz_H55Lxoe",
    "outputId": "ef912354-ab8d-487c-9727-05102a0f6481"
   },
   "outputs": [
    {
     "name": "stdout",
     "output_type": "stream",
     "text": [
      "\n",
      "Euclidean:\n",
      "Custom KNN values:\n",
      "['0.5384615384615384', '0.5384615384615384', '0.3076923076923077', '0.46153846153846156', '0.6153846153846154', '0.38461538461538464', '0.6923076923076923', '0.6153846153846154', '0.7692307692307693', '0.38461538461538464']\n",
      "Scikit-learn KNN values:\n",
      "['0.6923076923076923', '0.6153846153846154', '0.6153846153846154', '0.38461538461538464', '0.7692307692307693', '0.6153846153846154', '0.6153846153846154', '0.7692307692307693', '0.5384615384615384', '0.7692307692307693']\n",
      "Mean Accuracy of Custom KNN: 53.07692307692308%\n",
      "Mean Accuracy of Scikit-learn KNN: 63.846153846153854%\n",
      "\n",
      "Hamming:\n",
      "Custom KNN values:\n",
      "['0.6923076923076923', '0.5384615384615384', '0.5384615384615384', '0.3076923076923077', '0.6153846153846154', '0.38461538461538464', '0.46153846153846156', '0.6153846153846154', '0.8461538461538461', '0.7692307692307693']\n",
      "Scikit-learn KNN values:\n",
      "['0.6923076923076923', '0.5384615384615384', '0.6153846153846154', '0.3076923076923077', '0.6153846153846154', '0.5384615384615384', '0.46153846153846156', '0.46153846153846156', '0.5384615384615384', '0.5384615384615384']\n",
      "Mean Accuracy of Custom KNN: 57.692307692307686%\n",
      "Mean Accuracy of Scikit-learn KNN: 53.07692307692308%\n",
      "\n",
      "Manhattan:\n",
      "Custom KNN values:\n",
      "['0.7692307692307693', '0.6153846153846154', '0.5384615384615384', '0.46153846153846156', '0.6923076923076923', '0.46153846153846156', '0.7692307692307693', '0.8461538461538461', '0.8461538461538461', '0.7692307692307693']\n",
      "Scikit-learn KNN values:\n",
      "['0.6923076923076923', '0.6153846153846154', '0.6153846153846154', '0.38461538461538464', '0.6923076923076923', '0.6153846153846154', '0.6153846153846154', '0.6923076923076923', '0.5384615384615384', '0.7692307692307693']\n",
      "Mean Accuracy of Custom KNN: 67.6923076923077%\n",
      "Mean Accuracy of Scikit-learn KNN: 62.30769230769231%\n"
     ]
    }
   ],
   "source": [
    "distance_metrics = ['euclidean', 'hamming', 'manhattan']\n",
    "car_custom_scores, car_sckit_scores = kfcv.kFCVEvaluate(trainFeatures, 10, 3, distance_metrics)\n",
    "\n",
    "for metric in distance_metrics:\n",
    "    # Calculate mean accuracies\n",
    "    mean_custom_knn = sum(car_custom_scores[metric]) / len(car_custom_scores[metric])\n",
    "    mean_sckit_knn = sum(car_sckit_scores[metric]) / len(car_sckit_scores[metric])\n",
    "    \n",
    "    print(f\"\\n{metric.capitalize()}:\")\n",
    "    print(\"Custom KNN values:\")\n",
    "    print([f\"{score:}\" for score in car_custom_scores[metric]])\n",
    "\n",
    "    print(\"Scikit-learn KNN values:\")\n",
    "    print([f\"{score:}\" for score in car_sckit_scores[metric]])\n",
    "\n",
    "    print(f\"Mean Accuracy of Custom KNN: {mean_custom_knn * 100:}%\")\n",
    "    print(f\"Mean Accuracy of Scikit-learn KNN: {mean_sckit_knn * 100:}%\")"
   ]
  },
  {
   "cell_type": "markdown",
   "metadata": {},
   "source": [
    "***Paired Sample Hypothesis Test Calculation***"
   ]
  },
  {
   "cell_type": "code",
   "execution_count": 13,
   "metadata": {},
   "outputs": [
    {
     "name": "stdout",
     "output_type": "stream",
     "text": [
      "\n",
      "Euclidean:\n",
      "T-statistic: -1.8007\n",
      "P-value: 0.1053\n",
      "Fail to reject the null hypothesis (No significant difference between the models).\n",
      "--------------------------------------------------------------------------------------\n",
      "\n",
      "Hamming:\n",
      "T-statistic: 1.0324\n",
      "P-value: 0.3288\n",
      "Fail to reject the null hypothesis (No significant difference between the models).\n",
      "--------------------------------------------------------------------------------------\n",
      "\n",
      "Manhattan:\n",
      "T-statistic: 1.2999\n",
      "P-value: 0.2259\n",
      "Fail to reject the null hypothesis (No significant difference between the models).\n",
      "--------------------------------------------------------------------------------------\n"
     ]
    }
   ],
   "source": [
    "for metric in distance_metrics:\n",
    "    print(f\"\\n{metric.capitalize()}:\")\n",
    "    t_statistic, p_value = ttest_rel(car_custom_scores[metric], car_sckit_scores[metric])\n",
    "    print(f'T-statistic: {t_statistic:.4f}')\n",
    "    print(f'P-value: {p_value:.4f}')\n",
    "    if p_value > 0.05:\n",
    "      print(\"Fail to reject the null hypothesis (No significant difference between the models).\")\n",
    "    else:\n",
    "      print(\"Reject the null hypothesis (Significant difference between the models).\")        \n",
    "    print(\"--------------------------------------------------------------------------------------\")"
   ]
  },
  {
   "cell_type": "markdown",
   "metadata": {},
   "source": [
    "***Breast Cancer DataSet***"
   ]
  },
  {
   "cell_type": "code",
   "execution_count": 14,
   "metadata": {
    "id": "6By74yB6MdMA"
   },
   "outputs": [],
   "source": [
    "cancerFile = './breast+cancer/breast-cancer.data'\n",
    "cancerData, cancerLabel = readData(cancerFile)\n",
    "cdf = pd.DataFrame(cancerData)\n",
    "cdf = cdf.apply(preprocessing.LabelEncoder().fit_transform)\n",
    "cdf.dropna(inplace=True)\n",
    "cancerFeatures = cdf.values.tolist()\n",
    "cancerLabels = [cancer[-1] for cancer in cancerFeatures]"
   ]
  },
  {
   "cell_type": "markdown",
   "metadata": {},
   "source": [
    "***Calculation of Custom and Sckit KNN Algorithm Accuracy***"
   ]
  },
  {
   "cell_type": "code",
   "execution_count": 15,
   "metadata": {
    "colab": {
     "base_uri": "https://localhost:8080/"
    },
    "id": "KZaO5I1CMmjq",
    "outputId": "d06033ff-2988-4800-e176-8af71fbabec8"
   },
   "outputs": [
    {
     "name": "stdout",
     "output_type": "stream",
     "text": [
      "\n",
      "Euclidean:\n",
      "Custom KNN values:\n",
      "['0.6923076923076923', '0.6153846153846154', '0.46153846153846156', '0.5384615384615384', '0.38461538461538464', '0.3076923076923077', '0.6153846153846154', '0.46153846153846156', '0.38461538461538464', '0.6153846153846154']\n",
      "Scikit-learn KNN values:\n",
      "['0.7692307692307693', '0.7692307692307693', '0.6153846153846154', '0.8461538461538461', '0.6923076923076923', '0.6153846153846154', '0.6153846153846154', '0.6153846153846154', '0.6153846153846154', '0.8461538461538461']\n",
      "Mean Accuracy of Custom KNN: 50.76923076923077%\n",
      "Mean Accuracy of Scikit-learn KNN: 70.0%\n",
      "\n",
      "Hamming:\n",
      "Custom KNN values:\n",
      "['0.6153846153846154', '0.8461538461538461', '0.6153846153846154', '0.8461538461538461', '0.5384615384615384', '0.46153846153846156', '0.6153846153846154', '0.6153846153846154', '0.6153846153846154', '0.6153846153846154']\n",
      "Scikit-learn KNN values:\n",
      "['0.7692307692307693', '0.7692307692307693', '0.5384615384615384', '0.6923076923076923', '0.5384615384615384', '0.6153846153846154', '0.46153846153846156', '0.5384615384615384', '0.46153846153846156', '0.6153846153846154']\n",
      "Mean Accuracy of Custom KNN: 63.846153846153854%\n",
      "Mean Accuracy of Scikit-learn KNN: 60.0%\n",
      "\n",
      "Manhattan:\n",
      "Custom KNN values:\n",
      "['0.7692307692307693', '0.7692307692307693', '0.6153846153846154', '0.9230769230769231', '0.7692307692307693', '0.46153846153846156', '0.6923076923076923', '0.6153846153846154', '0.6923076923076923', '0.6923076923076923']\n",
      "Scikit-learn KNN values:\n",
      "['0.6923076923076923', '0.7692307692307693', '0.6153846153846154', '0.7692307692307693', '0.6923076923076923', '0.6153846153846154', '0.5384615384615384', '0.6923076923076923', '0.6153846153846154', '0.6923076923076923']\n",
      "Mean Accuracy of Custom KNN: 70.0%\n",
      "Mean Accuracy of Scikit-learn KNN: 66.92307692307693%\n"
     ]
    }
   ],
   "source": [
    "distance_metrics = ['euclidean', 'hamming', 'manhattan']\n",
    "cancer_custom_scores, cancer_sckit_scores = kfcv.kFCVEvaluate(trainFeatures, 10, 3, distance_metrics)\n",
    "\n",
    "for metric in distance_metrics:\n",
    "    # Calculate mean accuracies\n",
    "    mean_custom_knn = sum(cancer_custom_scores[metric]) / len(cancer_custom_scores[metric])\n",
    "    mean_sckit_knn = sum(cancer_sckit_scores[metric]) / len(cancer_sckit_scores[metric])\n",
    "    \n",
    "    print(f\"\\n{metric.capitalize()}:\")\n",
    "    print(\"Custom KNN values:\")\n",
    "    print([f\"{score:}\" for score in cancer_custom_scores[metric]])\n",
    "\n",
    "    print(\"Scikit-learn KNN values:\")\n",
    "    print([f\"{score:}\" for score in cancer_sckit_scores[metric]])\n",
    "\n",
    "    print(f\"Mean Accuracy of Custom KNN: {mean_custom_knn * 100:}%\")\n",
    "    print(f\"Mean Accuracy of Scikit-learn KNN: {mean_sckit_knn * 100:}%\")\n"
   ]
  },
  {
   "cell_type": "markdown",
   "metadata": {},
   "source": [
    "***Paired Sample Hypothesis test calculation.***"
   ]
  },
  {
   "cell_type": "code",
   "execution_count": 16,
   "metadata": {},
   "outputs": [
    {
     "name": "stdout",
     "output_type": "stream",
     "text": [
      "\n",
      "Euclidean:\n",
      "T-statistic: -5.8387\n",
      "P-value: 0.0002\n",
      "Reject the null hypothesis (Significant difference between the models).\n",
      "--------------------------------------------------------------------------------------\n",
      "\n",
      "Hamming:\n",
      "T-statistic: 1.0476\n",
      "P-value: 0.3221\n",
      "Fail to reject the null hypothesis (No significant difference between the models).\n",
      "--------------------------------------------------------------------------------------\n",
      "\n",
      "Manhattan:\n",
      "T-statistic: 1.0000\n",
      "P-value: 0.3434\n",
      "Fail to reject the null hypothesis (No significant difference between the models).\n",
      "--------------------------------------------------------------------------------------\n"
     ]
    }
   ],
   "source": [
    "for metric in distance_metrics:\n",
    "    print(f\"\\n{metric.capitalize()}:\")\n",
    "    t_statistic, p_value = ttest_rel(cancer_custom_scores[metric], cancer_sckit_scores[metric])\n",
    "    print(f'T-statistic: {t_statistic:.4f}')\n",
    "    print(f'P-value: {p_value:.4f}')\n",
    "    if p_value > 0.05:\n",
    "      print(\"Fail to reject the null hypothesis (No significant difference between the models).\")\n",
    "    else:\n",
    "      print(\"Reject the null hypothesis (Significant difference between the models).\")        \n",
    "    print(\"--------------------------------------------------------------------------------------\")"
   ]
  }
 ],
 "metadata": {
  "colab": {
   "provenance": []
  },
  "kernelspec": {
   "display_name": "Python 3",
   "name": "python3"
  },
  "language_info": {
   "codemirror_mode": {
    "name": "ipython",
    "version": 3
   },
   "file_extension": ".py",
   "mimetype": "text/x-python",
   "name": "python",
   "nbconvert_exporter": "python",
   "pygments_lexer": "ipython3",
   "version": "3.12.2"
  }
 },
 "nbformat": 4,
 "nbformat_minor": 0
}
